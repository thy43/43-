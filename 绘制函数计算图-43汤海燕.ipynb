{
 "cells": [
  {
   "cell_type": "code",
   "execution_count": 1,
   "id": "2de8b503-9178-4f7a-b0d3-25161560f41c",
   "metadata": {},
   "outputs": [
    {
     "name": "stdout",
     "output_type": "stream",
     "text": [
      "dy/dc at c=0, c2=1: 0.0\n",
      "dy/dc2 at c=0, c2=1: 0.002896498190239072\n"
     ]
    }
   ],
   "source": [
    "import torch\n",
    " \n",
    "# 定义变量c和c2，并设置需要梯度的标志\n",
    "c = torch.tensor(0.0, requires_grad=True)\n",
    "c2 = torch.tensor(1.0, requires_grad=True)\n",
    " \n",
    "# 定义sigmoid函数\n",
    "def sigmoid(x):\n",
    "    return torch.sigmoid(x)\n",
    " \n",
    "# 定义函数y\n",
    "y = sigmoid(3 * sigmoid(c**2 + 2*c2 + 1) + sigmoid(c**2 + 2*c2 + 1) + 1)\n",
    " \n",
    "# 计算y在c和c2处的梯度\n",
    "y.backward()\n",
    " \n",
    "# 输出c和c2的梯度\n",
    "print(f\"dy/dc at c=0, c2=1: {c.grad.item()}\")\n",
    "print(f\"dy/dc2 at c=0, c2=1: {c2.grad.item()}\")"
   ]
  },
  {
   "cell_type": "code",
   "execution_count": null,
   "id": "c4252b9e-1265-4d7a-adf5-ad73dec886de",
   "metadata": {},
   "outputs": [],
   "source": []
  }
 ],
 "metadata": {
  "kernelspec": {
   "display_name": "Python 3 (ipykernel)",
   "language": "python",
   "name": "python3"
  },
  "language_info": {
   "codemirror_mode": {
    "name": "ipython",
    "version": 3
   },
   "file_extension": ".py",
   "mimetype": "text/x-python",
   "name": "python",
   "nbconvert_exporter": "python",
   "pygments_lexer": "ipython3",
   "version": "3.9.7"
  }
 },
 "nbformat": 4,
 "nbformat_minor": 5
}
