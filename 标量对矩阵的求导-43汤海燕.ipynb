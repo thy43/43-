{
 "cells": [
  {
   "cell_type": "code",
   "execution_count": 1,
   "id": "f09eb89b-51b4-4241-b00c-3f912c3e4afe",
   "metadata": {},
   "outputs": [
    {
     "name": "stdout",
     "output_type": "stream",
     "text": [
      "Gradient of f(X) at X=0:\n",
      "tensor([[0., 0., 0.],\n",
      "        [0., 0., 0.],\n",
      "        [0., 0., 0.]])\n"
     ]
    }
   ],
   "source": [
    "import torch\n",
    " \n",
    "# 定义3乘3的张量X，初始化为全0\n",
    "X = torch.zeros((3, 3), requires_grad=True)\n",
    " \n",
    "# 定义标量函数f(X)为X的所有元素的平方和\n",
    "f = X.pow(2).sum()\n",
    " \n",
    "# 计算梯度\n",
    "f.backward()\n",
    " \n",
    "# 输出梯度矩阵\n",
    "print(\"Gradient of f(X) at X=0:\")\n",
    "print(X.grad)"
   ]
  },
  {
   "cell_type": "code",
   "execution_count": null,
   "id": "459b0f55-0838-414f-b459-a1f9b872e5af",
   "metadata": {},
   "outputs": [],
   "source": []
  }
 ],
 "metadata": {
  "kernelspec": {
   "display_name": "Python 3 (ipykernel)",
   "language": "python",
   "name": "python3"
  },
  "language_info": {
   "codemirror_mode": {
    "name": "ipython",
    "version": 3
   },
   "file_extension": ".py",
   "mimetype": "text/x-python",
   "name": "python",
   "nbconvert_exporter": "python",
   "pygments_lexer": "ipython3",
   "version": "3.9.7"
  }
 },
 "nbformat": 4,
 "nbformat_minor": 5
}
