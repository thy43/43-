{
 "cells": [
  {
   "cell_type": "code",
   "execution_count": 3,
   "id": "cebeb4b4-6d7a-42c2-b791-5585b070ab72",
   "metadata": {},
   "outputs": [],
   "source": [
    "import os\n",
    "\n",
    "os.environ['KMP_DUPLICATE_LIB_OK'] = 'True'"
   ]
  },
  {
   "cell_type": "code",
   "execution_count": 2,
   "id": "23d4cb32-b8ad-4bab-9267-84a69ae3eda9",
   "metadata": {},
   "outputs": [
    {
     "name": "stdout",
     "output_type": "stream",
     "text": [
      "Epoch [100/1000], Loss: nan\n",
      "Epoch [200/1000], Loss: nan\n",
      "Epoch [300/1000], Loss: nan\n",
      "Epoch [400/1000], Loss: nan\n",
      "Epoch [500/1000], Loss: nan\n",
      "Epoch [600/1000], Loss: nan\n",
      "Epoch [700/1000], Loss: nan\n",
      "Epoch [800/1000], Loss: nan\n",
      "Epoch [900/1000], Loss: nan\n",
      "Epoch [1000/1000], Loss: nan\n"
     ]
    },
    {
     "data": {
      "image/png": "[encoded data removed]",
      "text/plain": [
       "<Figure size 432x288 with 1 Axes>"
      ]
     },
     "metadata": {
      "needs_background": "light"
     },
     "output_type": "display_data"
    },
    {
     "data": {
      "image/png": "[encoded data removed]",
      "text/plain": [
       "<Figure size 432x288 with 1 Axes>"
      ]
     },
     "metadata": {
      "needs_background": "light"
     },
     "output_type": "display_data"
    }
   ],
   "source": [
    "import numpy as np\n",
    "import torch\n",
    "import torch.nn as nn\n",
    "import torch.optim as optim\n",
    "import matplotlib.pyplot as plt\n",
    "\n",
    "# 生成模拟数据\n",
    "np.random.seed(42)  # 设置随机种子以便结果可重复\n",
    "X = np.sort(np.random.rand(100, 1) * 10, axis=0)  # 生成0到10之间的100个随机数，并排序\n",
    "y = 3 * X**2 + 2 * X + 1 + np.random.randn(100, 1) * 2  # 生成多项式关系的目标变量，并添加一些噪声\n",
    "\n",
    "# 将数据转换为PyTorch张量\n",
    "X_tensor = torch.tensor(X, dtype=torch.float32)\n",
    "y_tensor = torch.tensor(y, dtype=torch.float32)\n",
    "\n",
    "# 定义多项式回归模型（这里我们假设是二次多项式）\n",
    "class PolynomialRegressionModel(nn.Module):\n",
    "    def __init__(self, degree):\n",
    "        super(PolynomialRegressionModel, self).__init__()\n",
    "        self.degree = degree\n",
    "        self.linear = nn.Linear(degree + 1, 1)  # 因为多项式项从0次到degree次，所以总共有degree+1个系数\n",
    "\n",
    "    def forward(self, x):\n",
    "        # 创建多项式特征，例如对于二次多项式，我们需要 [x^0, x^1, x^2]\n",
    "        polynomial_features = [x**i for i in range(self.degree + 1)]  # 生成多项式特征\n",
    "        polynomial_features = torch.cat(polynomial_features, dim=1)  # 将列表拼接成一个张量\n",
    "        return self.linear(polynomial_features)\n",
    "\n",
    "# 初始化模型、损失函数和优化器\n",
    "degree = 2  # 设置多项式的次数\n",
    "model = PolynomialRegressionModel(degree)\n",
    "criterion = nn.MSELoss()\n",
    "optimizer = optim.SGD(model.parameters(), lr=0.01)\n",
    "\n",
    "# 训练模型\n",
    "num_epochs = 1000\n",
    "losses = []  # 用于记录每个epoch的损失\n",
    "\n",
    "for epoch in range(num_epochs):\n",
    "    model.train()\n",
    "\n",
    "    # 前向传播\n",
    "    outputs = model(X_tensor)\n",
    "    loss = criterion(outputs, y_tensor)\n",
    "\n",
    "    # 反向传播和优化\n",
    "    optimizer.zero_grad()\n",
    "    loss.backward()\n",
    "    optimizer.step()\n",
    "\n",
    "    # 记录损失\n",
    "    losses.append(loss.item())\n",
    "\n",
    "    if (epoch + 1) % 100 == 0:\n",
    "        print(f'Epoch [{epoch + 1}/{num_epochs}], Loss: {loss.item():.4f}')\n",
    "\n",
    "# 绘制损失下降曲线\n",
    "plt.plot(range(1, num_epochs + 1), losses)\n",
    "plt.xlabel('Epoch')\n",
    "plt.ylabel('Loss')\n",
    "plt.title('Loss Decreasing Curve')\n",
    "plt.show()\n",
    "\n",
    "# 可视化训练后的模型（在真实数据上）\n",
    "X_plot = np.linspace(0, 10, 100).reshape(-1, 1)  # 生成用于绘图的x值\n",
    "X_plot_tensor = torch.tensor(X_plot, dtype=torch.float32)\n",
    "with torch.no_grad():  # 禁止梯度计算以加速推理\n",
    "    y_plot = model(X_plot_tensor).numpy()  # 获取模型预测值\n",
    "\n",
    "plt.scatter(X, y, label='True Data')  # 绘制真实数据点\n",
    "plt.plot(X_plot, y_plot, label='Fitted Curve', color='red')  # 绘制拟合曲线\n",
    "plt.xlabel('X')\n",
    "plt.ylabel('y')\n",
    "plt.title('Polynomial Regression Fit')\n",
    "plt.legend()\n",
    "plt.show()"
   ]
  },
  {
   "cell_type": "code",
   "execution_count": null,
   "id": "e2a353d6-3149-4d23-9efc-ec9eb068e57f",
   "metadata": {},
   "outputs": [],
   "source": []
  }
 ],
 "metadata": {
  "kernelspec": {
   "display_name": "Python 3 (ipykernel)",
   "language": "python",
   "name": "python3"
  },
  "language_info": {
   "codemirror_mode": {
    "name": "ipython",
    "version": 3
   },
   "file_extension": ".py",
   "mimetype": "text/x-python",
   "name": "python",
   "nbconvert_exporter": "python",
   "pygments_lexer": "ipython3",
   "version": "3.9.7"
  }
 },
 "nbformat": 4,
 "nbformat_minor": 5
}
