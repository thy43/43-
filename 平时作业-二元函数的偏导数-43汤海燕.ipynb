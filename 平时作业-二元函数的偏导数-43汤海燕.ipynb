{
 "cells": [
  {
   "cell_type": "code",
   "execution_count": 3,
   "id": "239837de-482f-4253-9208-142a35a0b9c4",
   "metadata": {},
   "outputs": [
    {
     "name": "stdout",
     "output_type": "stream",
     "text": [
      "y在x0=1.0的导数是： tensor(2.)\n"
     ]
    }
   ],
   "source": [
    "import torch\n",
    "\n",
    "x0 = torch.tensor(1.0,requires_grad=True)\n",
    "y = x0**2\n",
    "y.backward()\n",
    "print(\"y在x0=1.0的导数是：\",x0.grad)"
   ]
  },
  {
   "cell_type": "code",
   "execution_count": 5,
   "id": "e3ea31c1-4c94-4ce9-98e0-2d50747258fd",
   "metadata": {},
   "outputs": [],
   "source": [
    "import torch\n",
    "\n",
    "def func(x):\n",
    "    return x**2+x+1\n",
    "x = torch.tensor(1.0,requires_grad=True)\n",
    "y = func(x)"
   ]
  },
  {
   "cell_type": "raw",
   "id": "c0f50cfe-48dd-488e-8a2b-1db4af7cf8c2",
   "metadata": {},
   "source": [
    "计算y在x=1处的导数"
   ]
  },
  {
   "cell_type": "code",
   "execution_count": 7,
   "id": "bf561910-60a3-42eb-babe-98b7fc8f5884",
   "metadata": {},
   "outputs": [],
   "source": [
    "y.backward()"
   ]
  },
  {
   "cell_type": "code",
   "execution_count": 8,
   "id": "f7e75846-8b27-4111-8322-8d7ec94e1e98",
   "metadata": {},
   "outputs": [
    {
     "data": {
      "text/plain": [
       "tensor(3.)"
      ]
     },
     "execution_count": 8,
     "metadata": {},
     "output_type": "execute_result"
    }
   ],
   "source": [
    "x.grad"
   ]
  },
  {
   "cell_type": "code",
   "execution_count": 9,
   "id": "5f4acf2f-84b9-4b71-93f5-a338d25c6616",
   "metadata": {},
   "outputs": [],
   "source": [
    "import torch\n",
    "\n",
    "def func(x):\n",
    "    return (x**2).sum()\n",
    "x = torch.tensor([0.0,1.0],requires_grad=True)\n",
    "y = func(x)"
   ]
  },
  {
   "cell_type": "raw",
   "id": "40afbde5-402e-4631-8958-c19328b67864",
   "metadata": {},
   "source": [
    "计算y在点x=(0,1)处两个分量的偏导数"
   ]
  },
  {
   "cell_type": "code",
   "execution_count": 10,
   "id": "858610c6-8a56-4dab-86d6-e3081fe4a745",
   "metadata": {},
   "outputs": [],
   "source": [
    "y.backward()"
   ]
  },
  {
   "cell_type": "code",
   "execution_count": 11,
   "id": "6b8c19f1-1c88-47c3-bda7-0ab9d1458a41",
   "metadata": {},
   "outputs": [
    {
     "data": {
      "text/plain": [
       "tensor([0., 2.])"
      ]
     },
     "execution_count": 11,
     "metadata": {},
     "output_type": "execute_result"
    }
   ],
   "source": [
    "x.grad"
   ]
  },
  {
   "cell_type": "code",
   "execution_count": null,
   "id": "5fddc0c3-11b7-4100-a18e-1588b312997b",
   "metadata": {},
   "outputs": [],
   "source": []
  }
 ],
 "metadata": {
  "kernelspec": {
   "display_name": "Python 3 (ipykernel)",
   "language": "python",
   "name": "python3"
  },
  "language_info": {
   "codemirror_mode": {
    "name": "ipython",
    "version": 3
   },
   "file_extension": ".py",
   "mimetype": "text/x-python",
   "name": "python",
   "nbconvert_exporter": "python",
   "pygments_lexer": "ipython3",
   "version": "3.9.7"
  }
 },
 "nbformat": 4,
 "nbformat_minor": 5
}
