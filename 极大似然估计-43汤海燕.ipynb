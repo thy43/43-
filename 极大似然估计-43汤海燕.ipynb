{
 "cells": [
  {
   "cell_type": "markdown",
   "id": "8a03102d-9bd1-4073-b9a4-9fb891f6f75d",
   "metadata": {},
   "source": [
    "计算似然函数"
   ]
  },
  {
   "cell_type": "code",
   "execution_count": 3,
   "id": "0fbfa4b1-8fc7-487c-8ec7-190860079fe9",
   "metadata": {},
   "outputs": [],
   "source": [
    "import numpy as np\n",
    " \n",
    "def likelihood_function(observations, probabilities):\n",
    "    \"\"\"\n",
    "    计算给定观测数据下的似然函数值。\n",
    "    \n",
    "    参数:\n",
    "    observations (list or np.array): 观测数据，即n次试验的结果。\n",
    "    probabilities (list or np.array): 骰子各面出现的概率，长度为6。\n",
    "    \n",
    "    返回:\n",
    "    float: 似然函数值。\n",
    "    \"\"\"\n",
    "    n = len(observations)\n",
    "    likelihood = 1.0\n",
    "    for i in range(n):\n",
    "        observation = observations[i]\n",
    "        likelihood *= probabilities[observation - 1]  # 骰子点数为1-6，索引为0-5\n",
    "    return likelihood"
   ]
  },
  {
   "cell_type": "markdown",
   "id": "6af3a9e3-40be-483e-9ddf-68b5523a6d3a",
   "metadata": {},
   "source": [
    "构造观测数据"
   ]
  },
  {
   "cell_type": "code",
   "execution_count": 4,
   "id": "b9d69d90-c5ec-48a6-9608-f4eb0aa53ae5",
   "metadata": {},
   "outputs": [],
   "source": [
    "np.random.seed(0)  # 为了结果可重复\n",
    "n = 1000\n",
    "probabilities_true = np.array([1/6] * 6)  # 真实的概率分布（假设是均匀的）\n",
    "observations = np.random.choice(6, size=n, p=probabilities_true) + 1  # 骰子点数为1-6\n"
   ]
  },
  {
   "cell_type": "markdown",
   "id": "c08dc4a9-e887-49e8-933a-54066d85019a",
   "metadata": {},
   "source": [
    "使用梯度下降法求解极大似然估计"
   ]
  },
  {
   "cell_type": "code",
   "execution_count": 5,
   "id": "a13de328-8580-44cd-8baf-af10ff144e21",
   "metadata": {},
   "outputs": [
    {
     "name": "stdout",
     "output_type": "stream",
     "text": [
      "估计的概率分布: [0.16939188 0.16641115 0.17280444 0.15923927 0.16080303 0.17135024]\n"
     ]
    }
   ],
   "source": [
    "def negative_log_likelihood(observations, probabilities):\n",
    "    \"\"\"\n",
    "    计算负对数似然函数值。\n",
    "    \n",
    "    参数:\n",
    "    observations (list or np.array): 观测数据。\n",
    "    probabilities (np.array): 骰子各面出现的概率。\n",
    "    \n",
    "    返回:\n",
    "    float: 负对数似然函数值。\n",
    "    \"\"\"\n",
    "    n = len(observations)\n",
    "    nll = -np.sum(np.log(probabilities[observations - 1]))\n",
    "    return nll\n",
    " \n",
    "def gradient_descent(observations, initial_probabilities, learning_rate=0.01, num_iterations=1000):\n",
    "    \"\"\"\n",
    "    使用梯度下降法求解极大似然估计。\n",
    "    \n",
    "    参数:\n",
    "    observations (np.array): 观测数据。\n",
    "    initial_probabilities (np.array): 初始的概率分布。\n",
    "    learning_rate (float): 学习率。\n",
    "    num_iterations (int): 迭代次数。\n",
    "    \n",
    "    返回:\n",
    "    np.array: 估计的概率分布。\n",
    "    \"\"\"\n",
    "    probabilities = initial_probabilities.copy()\n",
    "    probabilities /= np.sum(probabilities)  # 确保概率之和为1\n",
    "    \n",
    "    for _ in range(num_iterations):\n",
    "        gradients = np.zeros_like(probabilities)\n",
    "        for i in range(6):\n",
    "            mask = (observations == i + 1)\n",
    "            gradients[i] = -np.sum(mask / probabilities[i]) / len(observations)\n",
    "        \n",
    "        probabilities -= learning_rate * gradients\n",
    "        probabilities = np.maximum(probabilities, 1e-10)  # 避免概率为0导致数值问题\n",
    "        probabilities /= np.sum(probabilities)  # 重新归一化\n",
    "    \n",
    "    return probabilities\n",
    " \n",
    "# 初始的概率分布（可以随意设置，但通常选择均匀分布作为起点）\n",
    "initial_probabilities = np.array([1/6] * 6)\n",
    " \n",
    "# 使用梯度下降法求解\n",
    "estimated_probabilities = gradient_descent(observations, initial_probabilities)\n",
    " \n",
    "print(\"估计的概率分布:\", estimated_probabilities)"
   ]
  },
  {
   "cell_type": "code",
   "execution_count": null,
   "id": "02bb088b-3059-4431-91c6-262faba7d3ab",
   "metadata": {},
   "outputs": [],
   "source": []
  }
 ],
 "metadata": {
  "kernelspec": {
   "display_name": "Python 3 (ipykernel)",
   "language": "python",
   "name": "python3"
  },
  "language_info": {
   "codemirror_mode": {
    "name": "ipython",
    "version": 3
   },
   "file_extension": ".py",
   "mimetype": "text/x-python",
   "name": "python",
   "nbconvert_exporter": "python",
   "pygments_lexer": "ipython3",
   "version": "3.9.7"
  }
 },
 "nbformat": 4,
 "nbformat_minor": 5
}
