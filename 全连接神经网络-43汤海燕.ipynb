{
 "cells": [
  {
   "cell_type": "code",
   "execution_count": 2,
   "id": "8221154a-7478-4a59-b5c8-46c18e1550d6",
   "metadata": {},
   "outputs": [
    {
     "name": "stdout",
     "output_type": "stream",
     "text": [
      "Input Data:\n",
      " tensor([[-1.4256, -0.6011, -0.3646, -1.1002, -1.0500,  0.1506, -1.3114,  0.0738,\n",
      "          0.8800, -0.1778]])\n",
      "Network Output:\n",
      " tensor([[ 0.0313,  0.1783,  0.2369,  0.1024, -0.1433]],\n",
      "       grad_fn=<AddmmBackward0>)\n"
     ]
    }
   ],
   "source": [
    "import torch\n",
    "import torch.nn as nn\n",
    "import torch.optim as optim\n",
    " \n",
    "# 定义网络结构\n",
    "class FullyConnectedNet(nn.Module):\n",
    "    def __init__(self, input_dim, hidden_dim, output_dim, num_hidden_layers=3):\n",
    "        super(FullyConnectedNet, self).__init__()\n",
    "        self.layers = nn.ModuleList()\n",
    "        # 输入层到第一个隐藏层\n",
    "        self.layers.append(nn.Linear(input_dim, hidden_dim))\n",
    "        self.layers.append(nn.ReLU())\n",
    "        # 添加中间的隐藏层\n",
    "        for _ in range(num_hidden_layers - 1):\n",
    "            self.layers.append(nn.Linear(hidden_dim, hidden_dim))\n",
    "            self.layers.append(nn.ReLU())\n",
    "        # 最后一个隐藏层到输出层\n",
    "        self.layers.append(nn.Linear(hidden_dim, output_dim))\n",
    "    \n",
    "    def forward(self, x):\n",
    "        for layer in self.layers:\n",
    "            x = layer(x)\n",
    "        return x\n",
    " # 设置参数\n",
    "input_dim = 10  # 输入维度\n",
    "hidden_dim = 10  # 隐藏层节点数\n",
    "output_dim = 5  # 输出类别数\n",
    "num_hidden_layers = 3  # 隐藏层数\n",
    " \n",
    "# 初始化网络\n",
    "net = FullyConnectedNet(input_dim, hidden_dim, output_dim, num_hidden_layers)\n",
    " \n",
    "# 构造维度为10的单个样本输入数据，随机初始化网络参数\n",
    "input_data = torch.randn(1, input_dim)  # 1个样本，每个样本10维\n",
    "print(\"Input Data:\\n\", input_data)\n",
    " \n",
    "# 前向反馈后打印网络输出\n",
    "output = net(input_data)\n",
    "print(\"Network Output:\\n\", output)"
   ]
  },
  {
   "cell_type": "markdown",
   "id": "7b31a2d5-987c-4008-b060-2066f2aaa78b",
   "metadata": {},
   "source": [
    "上课版"
   ]
  },
  {
   "cell_type": "code",
   "execution_count": 4,
   "id": "72ec424d-7872-4991-b8cc-1b2dc61b67ba",
   "metadata": {},
   "outputs": [],
   "source": [
    "import torch\n",
    "import torch.nn as nn\n",
    "import torch.nn.functional as F"
   ]
  },
  {
   "cell_type": "code",
   "execution_count": 5,
   "id": "dd1818a2-eca9-4c2b-bccc-e74c06cdc1fd",
   "metadata": {},
   "outputs": [],
   "source": [
    "tensor = torch.randn(1, 10)\n",
    "# 假设我们有一个样本，其类别索引为3（例如，在一个有4个类别的数据集中）\n",
    "class_index = torch.tensor([3])  # 一个包含类别索引的张量\n",
    "\n",
    "# 使用F.one_hot生成one-hot张量\n",
    "y = F.one_hot(class_index, num_classes=5)  # num_classes是类别的总数"
   ]
  },
  {
   "cell_type": "code",
   "execution_count": 6,
   "id": "9baf4c38-1b0b-405e-905c-3d12e704559d",
   "metadata": {},
   "outputs": [],
   "source": [
    "class FullyConnectedNet(nn.Module):\n",
    "    def __init__(self, input_size, output_size=5):\n",
    "        super(FullyConnectedNet, self).__init__()\n",
    "        # 定义第一个隐藏层\n",
    "        self.fc1 = nn.Linear(input_size, 7)\n",
    "        # 定义第二个隐藏层\n",
    "        self.fc2 = nn.Linear(7, 7)\n",
    "        # 定义第三个隐藏层\n",
    "        self.fc3 = nn.Linear(7, 7)\n",
    "        # 定义输出层\n",
    "        self.fc4 = nn.Linear(7, output_size)\n",
    "        self.softmax = nn.Softmax(dim=1)\n",
    "\n",
    "    def forward(self, x):\n",
    "        # 应用第一个隐藏层并使用ReLU激活函数\n",
    "        x = F.relu(self.fc1(x))\n",
    "        # 应用第二个隐藏层并使用ReLU激活函数\n",
    "        x = F.relu(self.fc2(x))\n",
    "        # 应用第三个隐藏层并使用ReLU激活函数\n",
    "        x = F.relu(self.fc3(x))\n",
    "        # 应用输出层\n",
    "        x = self.fc4(x)\n",
    "        return self.softmax(x)"
   ]
  },
  {
   "cell_type": "code",
   "execution_count": 7,
   "id": "ebad5550-150c-42e2-9cc1-7cc7787f0904",
   "metadata": {},
   "outputs": [],
   "source": [
    "dim1 = tensor.shape[1]"
   ]
  },
  {
   "cell_type": "code",
   "execution_count": 8,
   "id": "369848d5-db4d-477c-b80e-bd51a16154b9",
   "metadata": {},
   "outputs": [],
   "source": [
    "model = FullyConnectedNet(input_size=dim1)"
   ]
  },
  {
   "cell_type": "code",
   "execution_count": 9,
   "id": "e359d4fb-fd2d-4e1a-a04d-1607d94f529a",
   "metadata": {},
   "outputs": [
    {
     "name": "stdout",
     "output_type": "stream",
     "text": [
      "tensor([[0.1840, 0.1934, 0.2140, 0.2155, 0.1932]], grad_fn=<SoftmaxBackward0>)\n"
     ]
    }
   ],
   "source": [
    "out = model(tensor)\n",
    "print(out)"
   ]
  },
  {
   "cell_type": "code",
   "execution_count": 10,
   "id": "d2b9f4c0-e782-4a1d-b94b-961c96261e2c",
   "metadata": {},
   "outputs": [],
   "source": [
    "l = (torch.log(out)*y).sum()"
   ]
  },
  {
   "cell_type": "code",
   "execution_count": 11,
   "id": "3d022319-53ee-4fed-afdb-e36553ca7166",
   "metadata": {},
   "outputs": [],
   "source": [
    "l.backward()"
   ]
  },
  {
   "cell_type": "code",
   "execution_count": 12,
   "id": "55a21038-d0d5-45b2-9826-6e30206d6e82",
   "metadata": {},
   "outputs": [
    {
     "name": "stdout",
     "output_type": "stream",
     "text": [
      "tensor([[-0.0057,  0.0038, -0.0157, -0.0138, -0.0074,  0.0040, -0.0166, -0.0180,\n",
      "         -0.0222, -0.0051],\n",
      "        [-0.0036,  0.0024, -0.0100, -0.0087, -0.0047,  0.0025, -0.0105, -0.0114,\n",
      "         -0.0140, -0.0032],\n",
      "        [ 0.0000, -0.0000,  0.0000,  0.0000,  0.0000, -0.0000,  0.0000,  0.0000,\n",
      "          0.0000,  0.0000],\n",
      "        [-0.0141,  0.0094, -0.0389, -0.0340, -0.0182,  0.0099, -0.0409, -0.0445,\n",
      "         -0.0548, -0.0126],\n",
      "        [ 0.0000, -0.0000,  0.0000,  0.0000,  0.0000, -0.0000,  0.0000,  0.0000,\n",
      "          0.0000,  0.0000],\n",
      "        [ 0.0000, -0.0000,  0.0000,  0.0000,  0.0000, -0.0000,  0.0000,  0.0000,\n",
      "          0.0000,  0.0000],\n",
      "        [ 0.0000, -0.0000,  0.0000,  0.0000,  0.0000, -0.0000,  0.0000,  0.0000,\n",
      "          0.0000,  0.0000]])\n",
      "tensor([-0.0144, -0.0091,  0.0000, -0.0356,  0.0000,  0.0000,  0.0000])\n",
      "tensor([[-0.0144, -0.0298, -0.0000, -0.0423, -0.0000, -0.0000, -0.0000],\n",
      "        [ 0.0000,  0.0000,  0.0000,  0.0000,  0.0000,  0.0000,  0.0000],\n",
      "        [ 0.0000,  0.0000,  0.0000,  0.0000,  0.0000,  0.0000,  0.0000],\n",
      "        [ 0.0000,  0.0000,  0.0000,  0.0000,  0.0000,  0.0000,  0.0000],\n",
      "        [-0.0048, -0.0100, -0.0000, -0.0141, -0.0000, -0.0000, -0.0000],\n",
      "        [ 0.0009,  0.0019,  0.0000,  0.0026,  0.0000,  0.0000,  0.0000],\n",
      "        [ 0.0000,  0.0000,  0.0000,  0.0000,  0.0000,  0.0000,  0.0000]])\n",
      "tensor([-0.0820,  0.0000,  0.0000,  0.0000, -0.0274,  0.0051,  0.0000])\n",
      "tensor([[-0.0676, -0.0000, -0.0000, -0.0000, -0.0527, -0.0341, -0.0000],\n",
      "        [ 0.0000,  0.0000,  0.0000,  0.0000,  0.0000,  0.0000,  0.0000],\n",
      "        [ 0.0303,  0.0000,  0.0000,  0.0000,  0.0236,  0.0153,  0.0000],\n",
      "        [ 0.0594,  0.0000,  0.0000,  0.0000,  0.0463,  0.0300,  0.0000],\n",
      "        [ 0.0760,  0.0000,  0.0000,  0.0000,  0.0593,  0.0383,  0.0000],\n",
      "        [ 0.0000,  0.0000,  0.0000,  0.0000,  0.0000,  0.0000,  0.0000],\n",
      "        [-0.0423, -0.0000, -0.0000, -0.0000, -0.0330, -0.0213, -0.0000]])\n",
      "tensor([-0.1644,  0.0000,  0.0736,  0.1445,  0.1848,  0.0000, -0.1028])\n",
      "tensor([[-0.0378, -0.0000, -0.0540, -0.0132, -0.0153, -0.0000, -0.0192],\n",
      "        [-0.0397, -0.0000, -0.0567, -0.0138, -0.0161, -0.0000, -0.0202],\n",
      "        [-0.0440, -0.0000, -0.0628, -0.0153, -0.0178, -0.0000, -0.0223],\n",
      "        [ 0.1612,  0.0000,  0.2302,  0.0561,  0.0652,  0.0000,  0.0818],\n",
      "        [-0.0397, -0.0000, -0.0567, -0.0138, -0.0161, -0.0000, -0.0201]])\n",
      "tensor([-0.1840, -0.1934, -0.2140,  0.7845, -0.1932])\n"
     ]
    }
   ],
   "source": [
    "params = model.parameters()\n",
    "\n",
    "# 遍历并打印参数\n",
    "for param in params:\n",
    "    print(param.grad)"
   ]
  },
  {
   "cell_type": "code",
   "execution_count": null,
   "id": "ea09b76d-36c4-4997-aa96-dbc6a34d58d0",
   "metadata": {},
   "outputs": [],
   "source": []
  }
 ],
 "metadata": {
  "kernelspec": {
   "display_name": "Python 3 (ipykernel)",
   "language": "python",
   "name": "python3"
  },
  "language_info": {
   "codemirror_mode": {
    "name": "ipython",
    "version": 3
   },
   "file_extension": ".py",
   "mimetype": "text/x-python",
   "name": "python",
   "nbconvert_exporter": "python",
   "pygments_lexer": "ipython3",
   "version": "3.9.7"
  }
 },
 "nbformat": 4,
 "nbformat_minor": 5
}
