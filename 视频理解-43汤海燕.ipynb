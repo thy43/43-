{
 "cells": [
  {
   "cell_type": "code",
   "execution_count": 1,
   "id": "23ab4c2f-5e18-46c4-a6b9-42ea2e6e8599",
   "metadata": {},
   "outputs": [],
   "source": [
    "import os\n",
    "from zhipuai import ZhipuAI\n",
    "import base64  #导入base64库，用于将视频文件编码成base64字符串格式\n",
    "os. environ[\"ZHIPUAI_API_KEY\"]= \"d52cec0edb50db749fa27415908447a3.5htZTytpJ2u7rcK0\"\n",
    "client = ZhipuAI()"
   ]
  },
  {
   "cell_type": "code",
   "execution_count": 6,
   "id": "31967900-9eb4-46c5-a8e0-3b0c0b295bb2",
   "metadata": {},
   "outputs": [
    {
     "name": "stdout",
     "output_type": "stream",
     "text": [
      "通常来说，视频理解的响应时间较长，需要等待数十秒......\n",
      "CompletionMessage(content='好的，让我来为你描述一下这个场景。\\n\\n在这个视频中，我们看到一个女生站在一张桌子前，桌子上摆放着一些物品。她手里拿着一张纸，似乎正在阅读上面的内容。她的表情看起来有些困惑，好像不太理解纸上所写的内容。\\n\\n突然间，她抬起头来，眼睛瞪得大大的，好像看到了什么不可思议的事情。她开始兴奋地挥舞着手里的纸，嘴里还不停地念叨着什么。她的表情充满了惊喜和兴奋，好像发现了什么惊人的秘密一样。\\n\\n我们不知道她具体看到了什么，但从她的反应来看，这似乎是一件非常令人兴奋的事情。也许她在读一封信、一份报告或者是一篇论文，但不管是什么，她显然对它非常感兴趣。\\n\\n总的来说，这个场景充满了神秘感和趣味性，让人不禁想要了解更多细节。', role='assistant', tool_calls=None)\n"
     ]
    }
   ],
   "source": [
    "video_path = r\"E:\\专业综合实践2\\1015607725.mp4\"  # 设置视频文件的路径\n",
    "with open(video_path, 'rb') as video_file:  # 以“二进制读”模式打开视频文件\n",
    "    video_base = base64.b64encode(video_file.read()).decode('utf-8')  # 把视频文件编码成智谱支持的video_base64字符串，再解码成utf-8格式\n",
    "\n",
    "print(\"通常来说，视频理解的响应时间较长，需要等待数十秒......\")\n",
    "\n",
    "response = client.chat.completions.create(  # 直接调补全接口\n",
    "    model=\"glm-4v-plus\",  # 设置智谱具体大模型，glm-4v-plus支持视频理解\n",
    "    temperature=0.0,  # 设置温度参数，控制生成文本的随机性，0.0表示不随机，输出最可能的文本 \n",
    "    top_p=0,  # 设置top_p参数，控制生成文本的多样性，0表示不使用此参数 \n",
    "    messages=[{  # 设置消息列表\n",
    "        \"role\": \"user\",  # 指定消息的角色为用户\n",
    "        \"content\": [{  # 定义消息内容列表\n",
    "            \"type\": \"video_url\",  # 设置视频链接\n",
    "            \"video_url\": {\"url\": video_base}  # 将编码后的视频以base64字符串形式作为链接\n",
    "        }, {\n",
    "            \"type\": \"text\",  # 设置提问/提示词类型为文本\n",
    "            \"text\": \"请仔细描述这个视频的环境，图中的女生在干啥，以有趣的方式讲给我听\"  # 设置提问/提示词\n",
    "        }]\n",
    "    }]\n",
    ")\n",
    "\n",
    "print(response.choices[0].message)  # 输出回答列表中的第一个选项中的消息"
   ]
  },
  {
   "cell_type": "code",
   "execution_count": null,
   "id": "0036faf9-af25-4376-9874-052320569aba",
   "metadata": {},
   "outputs": [],
   "source": []
  }
 ],
 "metadata": {
  "kernelspec": {
   "display_name": "Python 3 (ipykernel)",
   "language": "python",
   "name": "python3"
  },
  "language_info": {
   "codemirror_mode": {
    "name": "ipython",
    "version": 3
   },
   "file_extension": ".py",
   "mimetype": "text/x-python",
   "name": "python",
   "nbconvert_exporter": "python",
   "pygments_lexer": "ipython3",
   "version": "3.9.7"
  }
 },
 "nbformat": 4,
 "nbformat_minor": 5
}
