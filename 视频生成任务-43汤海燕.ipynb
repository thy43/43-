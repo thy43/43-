{
 "cells": [
  {
   "cell_type": "code",
   "execution_count": 1,
   "id": "3e91bb43-243f-457e-ac97-9e1cb0ccd8ff",
   "metadata": {},
   "outputs": [
    {
     "name": "stdout",
     "output_type": "stream",
     "text": [
      "VideoObject(id='11201732692005677-9202948298612140490', model='cogvideox', video_result=None, task_status='PROCESSING', request_id='-9202948298612140491')\n"
     ]
    }
   ],
   "source": [
    "from zhipuai import ZhipuAI\n",
    "client = ZhipuAI(api_key=\"d52cec0edb50db749fa27415908447a3.5htZTytpJ2u7rcK0\")\n",
    "\n",
    "response = client.videos.generations(\n",
    "    model=\"cogvideox\",\n",
    "    prompt='穿梭于狭窄的石板路，镜头捕捉沿街叫卖的小贩、手工艺人专注雕刻的场景，以及孩童们嬉戏的欢声笑语'\n",
    ")\n",
    "print(response)"
   ]
  },
  {
   "cell_type": "code",
   "execution_count": 2,
   "id": "e5efc7fd-9491-424f-afaf-00e7b96c4677",
   "metadata": {},
   "outputs": [
    {
     "name": "stdout",
     "output_type": "stream",
     "text": [
      "VideoObject(id=None, model='cogvideox', video_result=[VideoResult(url='https://aigc-files.bigmodel.cn/api/cogvideo/7ee5ef68-ad27-11ef-885a-5e01a0c308a2_0.mp4', cover_image_url='https://aigc-files.bigmodel.cn/api/cogvideo/7ee5ef68-ad27-11ef-885a-5e01a0c308a2_cover_0.jpeg')], task_status='SUCCESS', request_id='-9202948298612140491')\n"
     ]
    }
   ],
   "source": [
    "from zhipuai import ZhipuAI\n",
    "client = ZhipuAI(api_key=\"d52cec0edb50db749fa27415908447a3.5htZTytpJ2u7rcK0\")\n",
    "\n",
    "response = client.videos.retrieve_videos_result(\n",
    "    id = \"11201732692005677-9202948298612140490\"\n",
    ")\n",
    "print(response)"
   ]
  },
  {
   "cell_type": "code",
   "execution_count": null,
   "id": "3926aff1-0edc-4d35-bc44-7adb1af0acfc",
   "metadata": {},
   "outputs": [],
   "source": []
  }
 ],
 "metadata": {
  "kernelspec": {
   "display_name": "Python 3 (ipykernel)",
   "language": "python",
   "name": "python3"
  },
  "language_info": {
   "codemirror_mode": {
    "name": "ipython",
    "version": 3
   },
   "file_extension": ".py",
   "mimetype": "text/x-python",
   "name": "python",
   "nbconvert_exporter": "python",
   "pygments_lexer": "ipython3",
   "version": "3.9.7"
  }
 },
 "nbformat": 4,
 "nbformat_minor": 5
}
