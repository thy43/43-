{
 "cells": [
  {
   "cell_type": "code",
   "execution_count": 1,
   "id": "af152491-da5e-4373-8f1d-e3e66cccd0c7",
   "metadata": {},
   "outputs": [
    {
     "name": "stdout",
     "output_type": "stream",
     "text": [
      "Skipping invalid file: README.md\n",
      "数据清洗和归类完成！\n"
     ]
    }
   ],
   "source": [
    "#安装库\n",
    "import os  \n",
    "import shutil  \n",
    "from PIL import Image\n",
    "\n",
    "# 设置原始图像数据集路径和清洗后的数据集路径\n",
    "original_animal_data = 'E:/专业综合实践2/大作业/animal_data'\n",
    "cleaned_animal_data = 'E:/专业综合实践2/大作业/cleaned_animal_data'\n",
    "\n",
    "# 创建清洗后的数据集目录\n",
    "os.makedirs(cleaned_animal_data, exist_ok=True)\n",
    "\n",
    "# 遍历原始数据集中的每个文件\n",
    "for root, dirs, files in os.walk(original_animal_data):\n",
    "    for file in files:\n",
    "        file_path = os.path.join(root, file)\n",
    "        \n",
    "        # 尝试打开图像文件，检查是否为有效的图片文件\n",
    "        try:\n",
    "            img = Image.open(file_path)\n",
    "        except (IOError, SyntaxError) as e:\n",
    "            print(f\"Skipping invalid file: {file}\")\n",
    "            continue\n",
    "        \n",
    "        # 进行数据分类，根据需要修改此部分逻辑\n",
    "        # 这里假设将图像按照文件夹名称进行分类\n",
    "        label = os.path.basename(root)\n",
    "        label_dir = os.path.join(cleaned_animal_data, label)\n",
    "        os.makedirs(label_dir, exist_ok=True)\n",
    "        \n",
    "        # 将图像文件复制到对应类别的文件夹中\n",
    "        shutil.copy(file_path, label_dir)\n",
    "\n",
    "print(\"数据清洗和归类完成！\")"
   ]
  },
  {
   "cell_type": "code",
   "execution_count": null,
   "id": "3393663f-a6d2-4f11-96f5-7e865fee9173",
   "metadata": {},
   "outputs": [],
   "source": []
  }
 ],
 "metadata": {
  "kernelspec": {
   "display_name": "Python 3 (ipykernel)",
   "language": "python",
   "name": "python3"
  },
  "language_info": {
   "codemirror_mode": {
    "name": "ipython",
    "version": 3
   },
   "file_extension": ".py",
   "mimetype": "text/x-python",
   "name": "python",
   "nbconvert_exporter": "python",
   "pygments_lexer": "ipython3",
   "version": "3.9.7"
  }
 },
 "nbformat": 4,
 "nbformat_minor": 5
}
