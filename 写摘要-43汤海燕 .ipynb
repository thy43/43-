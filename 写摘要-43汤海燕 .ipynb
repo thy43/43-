{
 "cells": [
  {
   "cell_type": "code",
   "execution_count": 6,
   "id": "019df35a-02e1-4230-931b-3a8a17fcdf10",
   "metadata": {},
   "outputs": [
    {
     "name": "stdout",
     "output_type": "stream",
     "text": [
      "CompletionMessage(content='摘要：\\n\\n本文分析了广州华商学院数据科学学院《实用机器学习》课程的考查要求。该课程旨在让学生了解Python在机器学习中的应用，掌握Python的基础知识和机器学习思路，并能够独立完成从数据描述到分析结论与建议的整个机器学习过程。考查内容包括收集图像数据集、数据清洗、分类算法设计、分类结果比较和实验报告撰写等。此外，还详细介绍了机器学习报告的撰写要求和评分标准。该课程分为四个阶段：题目拟定、机器学习代码编写、机器学习报告撰写和考核验收。通过对该课程考查要求的分析，可以看出该课程注重培养学生的实践能力和问题解决能力，以及对机器学习过程的全面理解和掌握。', role='assistant', tool_calls=None)\n"
     ]
    }
   ],
   "source": [
    "from zhipuai import ZhipuAI\n",
    "from pathlib import Path\n",
    "import json\n",
    "\n",
    "# 填写您自己的APIKey\n",
    "client = ZhipuAI(api_key=\"e05b73ca54d0a7c177b20e0dc01a9e45.SsDn6i2CLEsnMklz\")  # 确保 API Key 正确\n",
    "\n",
    "# 格式限制:.PDF.DOCX.DOC.XLS.XLSX.PPT.PPTX.PNG.JPG.JPEG.CSV.PY.TXT.MD.BMP.GIF\n",
    "# 大小: 单个文件50M、总数限制为100个文件\n",
    "file_object = client.files.create(file=Path(r\"E:\\实用机器学习\\21级_大数据专业_实用机器学习课程_大作业要求与安排及评分标准.doc\"), purpose=\"file-extract\")  # 改正了中文逗号\n",
    "\n",
    "# 获取文本内容\n",
    "file_content = json.loads(client.files.content(file_id=file_object.id).content)[\"content\"]\n",
    "\n",
    "# 生成请求消息\n",
    "message_content = f\"请对\\n{file_content}\\n的内容进行分析，并撰写一份论文摘要。\"\n",
    "\n",
    "response = client.chat.completions.create(\n",
    "    model=\"glm-4-long\", \n",
    "    messages=[\n",
    "        {\"role\": \"user\", \"content\": message_content}\n",
    "    ]\n",
    ")\n",
    "\n",
    "print(response.choices[0].message)  # 输出结果"
   ]
  },
  {
   "cell_type": "code",
   "execution_count": null,
   "id": "d2a67723-0ab9-4f6e-a380-e14dc74445d5",
   "metadata": {},
   "outputs": [],
   "source": []
  }
 ],
 "metadata": {
  "kernelspec": {
   "display_name": "Python 3 (ipykernel)",
   "language": "python",
   "name": "python3"
  },
  "language_info": {
   "codemirror_mode": {
    "name": "ipython",
    "version": 3
   },
   "file_extension": ".py",
   "mimetype": "text/x-python",
   "name": "python",
   "nbconvert_exporter": "python",
   "pygments_lexer": "ipython3",
   "version": "3.9.7"
  }
 },
 "nbformat": 4,
 "nbformat_minor": 5
}
