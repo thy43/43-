{
 "cells": [
  {
   "cell_type": "code",
   "execution_count": 1,
   "id": "a832c516-4405-4949-9ed2-d40dd816bc4d",
   "metadata": {},
   "outputs": [
    {
     "name": "stdout",
     "output_type": "stream",
     "text": [
      "1862033891762786304\n"
     ]
    }
   ],
   "source": [
    "from zhipuai import ZhipuAI\n",
    "\n",
    "client = ZhipuAI(api_key=\"d52cec0edb50db749fa27415908447a3.5htZTytpJ2u7rcK0\")\n",
    "result = client.knowledge.create(\n",
    "    embedding_id=3,\n",
    "    name=\"xiaoxiang knowledge\",\n",
    "    description=\"knowledge description\"\n",
    ")\n",
    "print(result.id)"
   ]
  },
  {
   "cell_type": "code",
   "execution_count": 4,
   "id": "fe78d4ba-0f03-4960-a39f-ac7ec551689e",
   "metadata": {},
   "outputs": [
    {
     "name": "stdout",
     "output_type": "stream",
     "text": [
      "DocumentObject(successInfos=[DocumentSuccessinfo(documentId='1862036062981996544', filename=None, fileName='高中教育.xlsx')], failedInfos=[])\n"
     ]
    }
   ],
   "source": [
    "resp = client.knowledge.document.create(\n",
    "    file=open(r\"E:\\数据可视化技术\\实验\\实验四\\案例3：高中教学分析\\高中教育.xlsx\",\"rb\"),\n",
    "    purpose=\"retrieval\",\n",
    "    knowledge_id=\"1862033891762786304\",\n",
    "    sentence_size=202,\n",
    "    custom_separator=[\"\\n\"]\n",
    ")\n",
    "print(resp)"
   ]
  }
 ],
 "metadata": {
  "kernelspec": {
   "display_name": "Python 3 (ipykernel)",
   "language": "python",
   "name": "python3"
  },
  "language_info": {
   "codemirror_mode": {
    "name": "ipython",
    "version": 3
   },
   "file_extension": ".py",
   "mimetype": "text/x-python",
   "name": "python",
   "nbconvert_exporter": "python",
   "pygments_lexer": "ipython3",
   "version": "3.9.7"
  }
 },
 "nbformat": 4,
 "nbformat_minor": 5
}
